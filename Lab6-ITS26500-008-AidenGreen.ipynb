{
 "cells": [
  {
   "cell_type": "code",
   "execution_count": 1,
   "metadata": {},
   "outputs": [],
   "source": [
    "import numpy as np\n",
    "import pandas as pd\n",
    "import matplotlib.pyplot as plt\n",
    "from sklearn.datasets import load_diabetes\n",
    "from sklearn.model_selection import train_test_split\n",
    "from sklearn.preprocessing import StandardScaler\n",
    "from sklearn.linear_model import LinearRegression\n",
    "from sklearn.metrics import root_mean_squared_error, r2_score"
   ]
  },
  {
   "cell_type": "code",
   "execution_count": 2,
   "metadata": {},
   "outputs": [
    {
     "name": "stdout",
     "output_type": "stream",
     "text": [
      "Dataset: \n",
      "        age       sex       bmi        bp        s1        s2        s3  \\\n",
      "0  0.038076  0.050680  0.061696  0.021872 -0.044223 -0.034821 -0.043401   \n",
      "1 -0.001882 -0.044642 -0.051474 -0.026328 -0.008449 -0.019163  0.074412   \n",
      "2  0.085299  0.050680  0.044451 -0.005670 -0.045599 -0.034194 -0.032356   \n",
      "3 -0.089063 -0.044642 -0.011595 -0.036656  0.012191  0.024991 -0.036038   \n",
      "4  0.005383 -0.044642 -0.036385  0.021872  0.003935  0.015596  0.008142   \n",
      "\n",
      "         s4        s5        s6   Risk  \n",
      "0 -0.002592  0.019907 -0.017646  151.0  \n",
      "1 -0.039493 -0.068332 -0.092204   75.0  \n",
      "2 -0.002592  0.002861 -0.025930  141.0  \n",
      "3  0.034309  0.022688 -0.009362  206.0  \n",
      "4 -0.002592 -0.031988 -0.046641  135.0  \n",
      "\n",
      "Dataset shape:  (442, 11)\n"
     ]
    }
   ],
   "source": [
    "#In this sections we loaded the dataset and split into X and y sets.\n",
    "#We pulled from the data the features to get the important info we needed.\n",
    "#Lastly, we made the data fit in a dataframe using pandas.\n",
    "diabetes = load_diabetes()\n",
    "X, y = diabetes.data, diabetes.target\n",
    "\n",
    "df = pd.DataFrame(X, columns = diabetes.feature_names)\n",
    "df['Risk'] = y\n",
    "print(\"Dataset: \")\n",
    "print(df.head())\n",
    "print(\"\\nDataset shape: \", df.shape)"
   ]
  },
  {
   "cell_type": "code",
   "execution_count": 3,
   "metadata": {},
   "outputs": [
    {
     "name": "stdout",
     "output_type": "stream",
     "text": [
      "\n",
      "Selected features: \n",
      "        age       sex        bp\n",
      "0  0.038076  0.050680  0.021872\n",
      "1 -0.001882 -0.044642 -0.026328\n",
      "2  0.085299  0.050680 -0.005670\n",
      "3 -0.089063 -0.044642 -0.036656\n",
      "4  0.005383 -0.044642  0.021872\n",
      "0    151.0\n",
      "1     75.0\n",
      "2    141.0\n",
      "3    206.0\n",
      "4    135.0\n",
      "Name: Risk, dtype: float64\n"
     ]
    }
   ],
   "source": [
    "#Here we took the important features and defined them. Proccessing what was needed.\n",
    "selected_features = ['age', 'sex', 'bp']\n",
    "X = df[selected_features]\n",
    "y = df['Risk']\n",
    "\n",
    "print(\"\\nSelected features: \")\n",
    "print(X.head())\n",
    "print(y.head())"
   ]
  },
  {
   "cell_type": "code",
   "execution_count": 4,
   "metadata": {},
   "outputs": [
    {
     "name": "stdout",
     "output_type": "stream",
     "text": [
      "Training set shape final:  (353, 3)\n",
      "Testing set shape final:  (89, 3)\n"
     ]
    }
   ],
   "source": [
    "#In this section we split the data into training and testing sets.\n",
    "#We used x y train and xy test to do this with its proper sizing\n",
    "#We also scaled the data to be able to fit in these training and testing sets.\n",
    "X_train, X_test, y_train, y_test = train_test_split(X, y, test_size=0.2, random_state=42)\n",
    "\n",
    "scaler = StandardScaler()\n",
    "X_train_scaled = scaler.fit_transform(X_train)\n",
    "X_test_scaled = scaler.fit_transform(X_test)\n",
    "\n",
    "print(\"Training set shape final: \", X_train_scaled.shape)\n",
    "print(\"Testing set shape final: \", X_test_scaled.shape)"
   ]
  },
  {
   "cell_type": "code",
   "execution_count": 5,
   "metadata": {},
   "outputs": [
    {
     "name": "stdout",
     "output_type": "stream",
     "text": [
      "Model training has finished\n"
     ]
    }
   ],
   "source": [
    "#We used the appropriate metric to test on this dataset.\n",
    "#Using regressing to fit the model and then train it.\n",
    "model = LinearRegression()\n",
    "model.fit(X_train_scaled, y_train)\n",
    "\n",
    "print(\"Model training has finished\")\n"
   ]
  },
  {
   "cell_type": "code",
   "execution_count": 6,
   "metadata": {},
   "outputs": [
    {
     "name": "stdout",
     "output_type": "stream",
     "text": [
      "Root Mean Squared Error: 67.06\n"
     ]
    }
   ],
   "source": [
    "#Here is where we evaluated the metric to see if it was working correctly.\n",
    "#We can see that the model was able to find the evaluation.\n",
    "y_pred = model.predict(X_test_scaled)\n",
    "\n",
    "mse = root_mean_squared_error(y_test, y_pred)\n",
    "print(f\"Root Mean Squared Error: {mse:.2f}\")"
   ]
  },
  {
   "cell_type": "code",
   "execution_count": 7,
   "metadata": {},
   "outputs": [
    {
     "data": {
      "text/plain": [
       "(np.float64(-0.54),\n",
       " np.float64(2.5400000000000005),\n",
       " np.float64(0.0),\n",
       " np.float64(35.74094201056501))"
      ]
     },
     "execution_count": 7,
     "metadata": {},
     "output_type": "execute_result"
    },
    {
     "data": {
      "image/png": "[encoded data removed]",
      "text/plain": [
       "<Figure size 1000x600 with 1 Axes>"
      ]
     },
     "metadata": {},
     "output_type": "display_data"
    }
   ],
   "source": [
    "#In this section we used the features to create a visualization.\n",
    "#Taking the dataframe and creating a bar graph to depict the outcome.\n",
    "diabetes = pd.DataFrame({'feature': selected_features, 'diabetes': abs(model.coef_)})\n",
    "\n",
    "importance = diabetes.sort_values('diabetes', ascending=False)\n",
    "\n",
    "plt.figure(figsize = (10, 6))\n",
    "plt.bar(diabetes['feature'], diabetes['diabetes'])\n",
    "plt.title('Feature: Diabetes Risk based on attributes')\n",
    "plt.xlabel('Attributes')\n",
    "plt.ylabel('Diabetes Risk')\n",
    "plt.tight_layout()\n",
    "plt.axis()"
   ]
  },
  {
   "cell_type": "code",
   "execution_count": null,
   "metadata": {},
   "outputs": [],
   "source": []
  },
  {
   "cell_type": "code",
   "execution_count": null,
   "metadata": {},
   "outputs": [],
   "source": []
  }
 ],
 "metadata": {
  "kernelspec": {
   "display_name": "py310_agentsAI",
   "language": "python",
   "name": "python3"
  },
  "language_info": {
   "codemirror_mode": {
    "name": "ipython",
    "version": 3
   },
   "file_extension": ".py",
   "mimetype": "text/x-python",
   "name": "python",
   "nbconvert_exporter": "python",
   "pygments_lexer": "ipython3",
   "version": "3.10.16"
  }
 },
 "nbformat": 4,
 "nbformat_minor": 2
}
